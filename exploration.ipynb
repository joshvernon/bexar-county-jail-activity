{
 "cells": [
  {
   "cell_type": "code",
   "execution_count": 1,
   "metadata": {},
   "outputs": [],
   "source": [
    "import os\n",
    "import requests\n",
    "import time\n",
    "\n",
    "from selenium import webdriver"
   ]
  },
  {
   "cell_type": "code",
   "execution_count": 2,
   "metadata": {},
   "outputs": [],
   "source": [
    "page_url = 'https://www.bexar.org/722/Jail-Activity-Reports'\n",
    "xpath = '//a[text()=\"State and County\"]'"
   ]
  },
  {
   "cell_type": "code",
   "execution_count": 3,
   "metadata": {},
   "outputs": [],
   "source": [
    "driver = webdriver.Firefox()\n",
    "driver.get(page_url)\n",
    "time.sleep(3)\n",
    "link_elements = driver.find_elements_by_xpath(xpath)\n",
    "links = [element.get_attribute('href') for element in link_elements]\n",
    "driver.quit()"
   ]
  },
  {
   "cell_type": "code",
   "execution_count": 4,
   "metadata": {},
   "outputs": [
    {
     "name": "stdout",
     "output_type": "stream",
     "text": [
      "['http://apps.bexar.org/jailactivity/KB50061D20190915.txt', 'http://apps.bexar.org/jailactivity/KB50061D20190916.txt', 'http://apps.bexar.org/jailactivity/KB50061D20190917.txt', 'http://apps.bexar.org/jailactivity/KB50061D20190918.txt', 'http://apps.bexar.org/jailactivity/KB50061D20190919.txt', 'http://apps.bexar.org/jailactivity/KB50061D20190920.txt', 'http://apps.bexar.org/jailactivity/KB50061D20190921.txt']\n"
     ]
    }
   ],
   "source": [
    "print(links)"
   ]
  },
  {
   "cell_type": "code",
   "execution_count": 5,
   "metadata": {},
   "outputs": [],
   "source": [
    "for link in links:\n",
    "    output_folder = os.path.expanduser('~/data/jailactivityreports')\n",
    "    output_file_path = f'{output_folder}/{os.path.basename(link)}'\n",
    "    report = requests.get(link).text\n",
    "    with open(output_file_path, 'w') as output_file:\n",
    "        output_file.write(report)"
   ]
  }
 ],
 "metadata": {
  "kernelspec": {
   "display_name": "Python 3",
   "language": "python",
   "name": "python3"
  },
  "language_info": {
   "codemirror_mode": {
    "name": "ipython",
    "version": 3
   },
   "file_extension": ".py",
   "mimetype": "text/x-python",
   "name": "python",
   "nbconvert_exporter": "python",
   "pygments_lexer": "ipython3",
   "version": "3.7.4"
  }
 },
 "nbformat": 4,
 "nbformat_minor": 2
}
